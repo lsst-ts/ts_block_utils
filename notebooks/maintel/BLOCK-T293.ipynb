{
 "cells": [
  {
   "cell_type": "markdown",
   "id": "0",
   "metadata": {},
   "source": [
    "# [BLOCK-T293] - Dynamic Tests at 70º - short and long slews\n",
    "\n",
    "[BLOCK-T293]: https://rubinobs.atlassian.net/projects/BLOCK?selectedItem=com.atlassian.plugins.atlassian-connect-plugin:com.kanoah.test-manager__main-project-page#!/v2/testCase/BLOCK-T293/testScript"
   ]
  },
  {
   "cell_type": "code",
   "execution_count": null,
   "id": "1",
   "metadata": {},
   "outputs": [],
   "source": [
    "%load_ext lab_black\n",
    "import numpy as np\n",
    "import os\n",
    "\n",
    "from matplotlib import pyplot as plt\n",
    "from lsst.ts.observing import ObservingBlock, ObservingScript"
   ]
  },
  {
   "cell_type": "code",
   "execution_count": null,
   "id": "2",
   "metadata": {},
   "outputs": [],
   "source": [
    "name = \"BLOCK-T293\"\n",
    "program = \"BLOCK-T293\"\n",
    "reason = \"LVV-T2811\"\n",
    "constraints = []\n",
    "scripts = []\n",
    "\n",
    "output_folder = \"output_blocks\"\n",
    "elevation = 70.0  # degrees\n",
    "azimuth = -75.0  # degrees"
   ]
  },
  {
   "cell_type": "code",
   "execution_count": null,
   "id": "3",
   "metadata": {},
   "outputs": [],
   "source": [
    "def build_configuration_schema(block_number, properties):\n",
    "    \"\"\"\n",
    "    Builds a configuration schema string for a given BLOCK and configurable\n",
    "    properties.\n",
    "\n",
    "    Parameters\n",
    "    ----------\n",
    "    block_number :\n",
    "        The BLOCK number to include in the title and description.\n",
    "    properties : dict\n",
    "        A dictionary where each key is a property name, and each value is a\n",
    "        dictionary with keys 'description', 'type', and optionally 'default'.\n",
    "\n",
    "    Returns\n",
    "    -------\n",
    "        A formatted configuration schema string.\n",
    "    \"\"\"\n",
    "\n",
    "    # Define the base schema with the BLOCK number\n",
    "    configuration_schema = (\n",
    "        \"$schema: http://json-schema.org/draft-07/schema#\\n\"\n",
    "        f\"title: BLOCK-{block_number} configuration\\n\"\n",
    "        f\"description: Configuration for BLOCK-{block_number}.\\n\"\n",
    "        \"type: object\\n\"\n",
    "        \"properties:\\n\"\n",
    "    )\n",
    "\n",
    "    # Add each property to the schema\n",
    "    for prop_name, prop_details in properties.items():\n",
    "        configuration_schema += f\"  {prop_name}:\\n\"\n",
    "        configuration_schema += f'    description: {prop_details[\"description\"]}\\n'\n",
    "        configuration_schema += f'    type: {prop_details[\"type\"]}\\n'\n",
    "        if \"default\" in prop_details:\n",
    "            # Add quotes around the default value if it's a string\n",
    "            default_value = prop_details[\"default\"]\n",
    "            if prop_details[\"type\"] == \"string\":\n",
    "                default_value = f'\"{default_value}\"'\n",
    "            configuration_schema += f\"    default: {default_value}\\n\"\n",
    "\n",
    "    return configuration_schema"
   ]
  },
  {
   "cell_type": "markdown",
   "id": "4",
   "metadata": {},
   "source": [
    "Define the configurable properties that we will use in the configuration schema"
   ]
  },
  {
   "cell_type": "code",
   "execution_count": null,
   "id": "5",
   "metadata": {},
   "outputs": [],
   "source": [
    "properties = {\n",
    "    \"ignore\": {\n",
    "        \"description\": \"Name of the CSCs we want to ignore\",\n",
    "        \"type\": \"array\",\n",
    "        \"default\": [],\n",
    "    },\n",
    "    \"move_timeout\": {\n",
    "        \"description\": \"Timeout for the move_p2p.py scripts\",\n",
    "        \"type\": \"number\",\n",
    "        \"default\": 1800,\n",
    "    },\n",
    "}\n",
    "\n",
    "block_number = name.split(\"-\")[-1]\n",
    "configuration_schema = build_configuration_schema(block_number, properties)\n",
    "print(configuration_schema)"
   ]
  },
  {
   "cell_type": "code",
   "execution_count": null,
   "id": "6",
   "metadata": {},
   "outputs": [],
   "source": [
    "AZ_LONG_SLEW = 24\n",
    "AZ_SHORT_SLEW = 3.5\n",
    "\n",
    "EL_LONG_SLEW = 12\n",
    "EL_SHORT_SLEW = 3.5\n",
    "\n",
    "EL_DIAG = 0.5\n",
    "AZ_DIAG = np.sqrt(1 - EL_DIAG**2)"
   ]
  },
  {
   "cell_type": "code",
   "execution_count": null,
   "id": "7",
   "metadata": {},
   "outputs": [],
   "source": [
    "azel_slew_offsets = [\n",
    "    (0, 0),\n",
    "    (0, EL_LONG_SLEW),\n",
    "    (0, -EL_LONG_SLEW),\n",
    "    (AZ_LONG_SLEW, 0),\n",
    "    (-AZ_LONG_SLEW, 0),\n",
    "    (0, EL_SHORT_SLEW),\n",
    "    (0, -EL_SHORT_SLEW),\n",
    "    (AZ_SHORT_SLEW, 0),\n",
    "    (-AZ_SHORT_SLEW, 0),\n",
    "    (AZ_LONG_SLEW / 2 * AZ_DIAG, EL_LONG_SLEW * EL_DIAG),\n",
    "    (-AZ_LONG_SLEW / 2 * AZ_DIAG, EL_LONG_SLEW * EL_DIAG),\n",
    "    (-AZ_LONG_SLEW / 2 * AZ_DIAG, -EL_LONG_SLEW * EL_DIAG),\n",
    "    (AZ_LONG_SLEW / 2 * AZ_DIAG, -EL_LONG_SLEW * EL_DIAG),\n",
    "    (AZ_SHORT_SLEW * AZ_DIAG, EL_SHORT_SLEW * EL_DIAG),\n",
    "    (-AZ_SHORT_SLEW * AZ_DIAG, EL_SHORT_SLEW * EL_DIAG),\n",
    "    (-AZ_SHORT_SLEW * AZ_DIAG, -EL_SHORT_SLEW * EL_DIAG),\n",
    "    (AZ_SHORT_SLEW * AZ_DIAG, -EL_SHORT_SLEW * EL_DIAG),\n",
    "]\n",
    "absolute_coordinates = []\n",
    "\n",
    "for az, el in azel_slew_offsets:\n",
    "    azimuth += np.round(az, 2)\n",
    "    elevation += np.round(el, 2)\n",
    "    print(\n",
    "        f\"Add move_p2p script to point at az={azimuth:.2f} deg and el = {elevation:.2f}\"\n",
    "    )\n",
    "    move_p2p = ObservingScript(\n",
    "        name=\"maintel/move_p2p.py\",\n",
    "        standard=True,\n",
    "        parameters=dict(\n",
    "            az=azimuth,\n",
    "            el=elevation,\n",
    "            move_timeout=\"$move_timeout\",\n",
    "            ignore=\"$ignore\",\n",
    "        ),\n",
    "    )\n",
    "    sleep = ObservingScript(\n",
    "        name=\"sleep.py\", standard=True, parameters=dict(sleep_for=30)\n",
    "    )\n",
    "\n",
    "    scripts.append(move_p2p)\n",
    "    scripts.append(sleep)\n",
    "    absolute_coordinates.append((azimuth, elevation))"
   ]
  },
  {
   "cell_type": "code",
   "execution_count": null,
   "id": "8",
   "metadata": {},
   "outputs": [],
   "source": [
    "block = ObservingBlock(\n",
    "    name=name,\n",
    "    program=program,\n",
    "    configuration_schema=configuration_schema,\n",
    "    scripts=scripts,\n",
    ")"
   ]
  },
  {
   "cell_type": "code",
   "execution_count": null,
   "id": "9",
   "metadata": {},
   "outputs": [],
   "source": [
    "block.model_dump_json(indent=2)\n",
    "\n",
    "os.makedirs(output_folder, exist_ok=True)\n",
    "output_path = f\"{output_folder}/{name}.json\"\n",
    "\n",
    "with open(output_path, \"w\") as file:\n",
    "    file.write(block.model_dump_json(indent=2))"
   ]
  },
  {
   "cell_type": "code",
   "execution_count": null,
   "id": "10",
   "metadata": {},
   "outputs": [],
   "source": [
    "fig, ax = plt.subplots()\n",
    "\n",
    "coords = np.array(absolute_coordinates)\n",
    "\n",
    "ax.plot(coords.T[0], coords.T[1])\n",
    "ax.set_xlabel(\"Azimuth [deg]\")\n",
    "ax.set_ylabel(\"Elevation [deg]\")\n",
    "ax.grid(\":\", alpha=0.25)\n",
    "\n",
    "plt.show()"
   ]
  },
  {
   "cell_type": "code",
   "execution_count": null,
   "id": "11",
   "metadata": {},
   "outputs": [],
   "source": [
    "x = 0.5\n",
    "z = 1\n",
    "y = np.sqrt(1 - 0.5**2)\n",
    "print(y)"
   ]
  },
  {
   "cell_type": "code",
   "execution_count": null,
   "id": "12",
   "metadata": {},
   "outputs": [],
   "source": []
  }
 ],
 "metadata": {
  "kernelspec": {
   "display_name": "LSST",
   "language": "python",
   "name": "lsst"
  },
  "language_info": {
   "codemirror_mode": {
    "name": "ipython",
    "version": 3
   },
   "file_extension": ".py",
   "mimetype": "text/x-python",
   "name": "python",
   "nbconvert_exporter": "python",
   "pygments_lexer": "ipython3",
   "version": "3.11.9"
  }
 },
 "nbformat": 4,
 "nbformat_minor": 5
}
