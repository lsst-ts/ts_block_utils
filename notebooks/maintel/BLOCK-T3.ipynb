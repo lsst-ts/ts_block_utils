{
 "cells": [
  {
   "cell_type": "markdown",
   "id": "0",
   "metadata": {},
   "source": [
    "# BLOCK-T240 - TMA Azimuth Brake Distance"
   ]
  },
  {
   "cell_type": "code",
   "execution_count": null,
   "id": "1",
   "metadata": {},
   "outputs": [],
   "source": [
    "# %load_ext lab_black\n",
    "import numpy as np\n",
    "import os\n",
    "\n",
    "from lsst.ts.observing import ObservingBlock, ObservingScript"
   ]
  },
  {
   "cell_type": "code",
   "execution_count": null,
   "id": "2",
   "metadata": {},
   "outputs": [],
   "source": [
    "name = \"BLOCK-T3\"\n",
    "program = \"BLOCK-T3\"\n",
    "constraints = []\n",
    "scripts = []\n",
    "\n",
    "output_folder = \"output_blocks\""
   ]
  },
  {
   "cell_type": "code",
   "execution_count": null,
   "id": "3",
   "metadata": {},
   "outputs": [],
   "source": [
    "def build_configuration_schema(block_number, properties):\n",
    "    \"\"\"\n",
    "    Builds a configuration schema string for a given BLOCK and configurable\n",
    "    properties.\n",
    "\n",
    "    Parameters\n",
    "    ----------\n",
    "    block_number :\n",
    "        The BLOCK number to include in the title and description.\n",
    "    properties : dict\n",
    "        A dictionary where each key is a property name, and each value is a\n",
    "        dictionary with keys 'description', 'type', and optionally 'default'.\n",
    "\n",
    "    Returns\n",
    "    -------\n",
    "        A formatted configuration schema string.\n",
    "    \"\"\"\n",
    "\n",
    "    # Define the base schema with the BLOCK number\n",
    "    configuration_schema = (\n",
    "        \"$schema: http://json-schema.org/draft-07/schema#\\n\"\n",
    "        f\"title: BLOCK-{block_number} configuration\\n\"\n",
    "        f\"description: Configuration for BLOCK-{block_number}.\\n\"\n",
    "        \"type: object\\n\"\n",
    "        \"properties:\\n\"\n",
    "    )\n",
    "\n",
    "    # Add each property to the schema\n",
    "    for prop_name, prop_details in properties.items():\n",
    "        configuration_schema += f\"  {prop_name}:\\n\"\n",
    "        configuration_schema += f'    description: {prop_details[\"description\"]}\\n'\n",
    "        configuration_schema += f'    type: {prop_details[\"type\"]}\\n'\n",
    "        if \"default\" in prop_details:\n",
    "            # Add quotes around the default value if it's a string\n",
    "            default_value = prop_details[\"default\"]\n",
    "            if prop_details[\"type\"] == \"string\":\n",
    "                default_value = f'\"{default_value}\"'\n",
    "            configuration_schema += f\"    default: {default_value}\\n\"\n",
    "\n",
    "    return configuration_schema"
   ]
  },
  {
   "cell_type": "markdown",
   "id": "4",
   "metadata": {},
   "source": [
    "Define the configurable properties that we will use in the configuration schema"
   ]
  },
  {
   "cell_type": "code",
   "execution_count": null,
   "id": "5",
   "metadata": {},
   "outputs": [],
   "source": [
    "properties = {\n",
    "    \"step_size\": {\n",
    "        \"description\": \"Step size in microns for x and y axes\",\n",
    "        \"type\": \"number\",\n",
    "        \"default\": \"125\",\n",
    "    },\n",
    "    \"max_position\": {\n",
    "        \"description\": \"Absolute maximum position for x and y axes\",\n",
    "        \"type\": \"number\",\n",
    "        \"default\": \"4500\",\n",
    "    },\n",
    "}\n",
    "\n",
    "block_number = name.split(\"-\")[-1]\n",
    "configuration_schema = build_configuration_schema(block_number, properties)\n",
    "print(configuration_schema)"
   ]
  },
  {
   "cell_type": "code",
   "execution_count": null,
   "id": "6",
   "metadata": {},
   "outputs": [],
   "source": [
    "# Disable hexapod compensation mode\n",
    "disable_compensation = ObservingScript(\n",
    "    name=\"run_command.py\",\n",
    "    standard=True,\n",
    "    parameters=dict(\n",
    "        component=\"MTHexapod:2\",\n",
    "        cmd=\"setCompensationMode\",\n",
    "        parameters=dict(mode=\"off\"),\n",
    "    ),\n",
    ")\n",
    "\n",
    "scripts.append(disable_compensation)\n",
    "\n",
    "# Zero position block\n",
    "zero_position = ObservingScript(\n",
    "    name=\"run_command.py\",\n",
    "    standard=True,\n",
    "    parameters=dict(\n",
    "        component=\"MTHexapod:2\",\n",
    "        cmd=\"move\",\n",
    "        parameters=dict(x=0, y=0, z=0, u=0, v=0, w=0),\n",
    "    ),\n",
    ")\n",
    "\n",
    "scripts.append(zero_position)\n",
    "\n",
    "# Warm up z axis\n",
    "warmup_z = ObservingScript(\n",
    "    name=\"maintel/warmup_hexapod.py\",\n",
    "    standard=False,\n",
    "    parameters=dict(hexapod=\"m2\", axis=\"z\", max_position=5000),\n",
    ")\n",
    "\n",
    "scripts.append(warmup_z)\n",
    "scripts.append(zero_position)\n",
    "\n",
    "# Warm up y axis with xy_step_size and xy_max_position configuration\n",
    "warmup_y = ObservingScript(\n",
    "    name=\"maintel/warmup_hexapod.py\",\n",
    "    standard=False,\n",
    "    parameters=dict(\n",
    "        hexapod=\"m2\", axis=\"y\", step_size=\"$step_size\", max_position=\"$max_position\"\n",
    "    ),\n",
    ")\n",
    "\n",
    "scripts.append(warmup_y)\n",
    "scripts.append(zero_position)\n",
    "\n",
    "# Warm up x axis with xy_step_size and xy_max_position configuration\n",
    "warmup_x = ObservingScript(\n",
    "    name=\"maintel/warmup_hexapod.py\",\n",
    "    standard=False,\n",
    "    parameters=dict(\n",
    "        hexapod=\"m2\", axis=\"x\", step_size=\"$step_size\", max_position=\"$max_position\"\n",
    "    ),\n",
    ")"
   ]
  },
  {
   "cell_type": "code",
   "execution_count": null,
   "id": "7",
   "metadata": {},
   "outputs": [],
   "source": [
    "block = ObservingBlock(\n",
    "    name=name,\n",
    "    program=program,\n",
    "    configuration_schema=configuration_schema,\n",
    "    scripts=scripts,\n",
    ")"
   ]
  },
  {
   "cell_type": "code",
   "execution_count": null,
   "id": "8",
   "metadata": {},
   "outputs": [],
   "source": [
    "block.model_dump_json(indent=2)\n",
    "\n",
    "os.makedirs(output_folder, exist_ok=True)\n",
    "output_path = f\"{output_folder}/{name}.json\"\n",
    "\n",
    "with open(output_path, \"w\") as file:\n",
    "    file.write(block.model_dump_json(indent=4))"
   ]
  }
 ],
 "metadata": {
  "kernelspec": {
   "display_name": "LSST",
   "language": "python",
   "name": "lsst"
  },
  "language_info": {
   "codemirror_mode": {
    "name": "ipython",
    "version": 3
   },
   "file_extension": ".py",
   "mimetype": "text/x-python",
   "name": "python",
   "nbconvert_exporter": "python",
   "pygments_lexer": "ipython3",
   "version": "3.11.9"
  }
 },
 "nbformat": 4,
 "nbformat_minor": 5
}
