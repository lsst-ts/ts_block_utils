{
 "cells": [
  {
   "cell_type": "markdown",
   "id": "0aab1d1d-69f1-4748-97ec-6614df9f7a18",
   "metadata": {
    "execution": {
     "iopub.execute_input": "2024-10-23T18:53:45.253189Z",
     "iopub.status.busy": "2024-10-23T18:53:45.252897Z",
     "iopub.status.idle": "2024-10-23T18:53:45.342351Z",
     "shell.execute_reply": "2024-10-23T18:53:45.341784Z",
     "shell.execute_reply.started": "2024-10-23T18:53:45.253174Z"
    }
   },
   "source": [
    "# BLOCK-T227 - Dynamic Tests at 34º - short and long slews"
   ]
  },
  {
   "cell_type": "code",
   "execution_count": 32,
   "id": "2bd99a4a-27a7-4301-b0d1-3f071651f386",
   "metadata": {},
   "outputs": [],
   "source": [
    "#%load_ext lab_black\n",
    "import numpy as np\n",
    "import os\n",
    "\n",
    "from matplotlib import pyplot as plt\n",
    "from lsst.ts.observing import ObservingBlock, ObservingScript"
   ]
  },
  {
   "cell_type": "code",
   "execution_count": 33,
   "id": "62127b26-6f4c-4689-a332-2a0a899ef2bf",
   "metadata": {},
   "outputs": [],
   "source": [
    "name = \"BLOCK-T227\"\n",
    "program = \"BLOCK-T227\"\n",
    "reason = \"LVV-T2811\"\n",
    "constraints = []\n",
    "scripts = []\n",
    "\n",
    "output_folder = \"output_blocks\"\n",
    "elevation = 34.0  # degrees\n",
    "azimuth = -75.0  # degrees"
   ]
  },
  {
   "cell_type": "code",
   "execution_count": 34,
   "id": "021b6438-bd05-46ce-bac1-4986a976b08c",
   "metadata": {},
   "outputs": [],
   "source": [
    "def build_configuration_schema(block_number, properties):\n",
    "    \"\"\"\n",
    "    Builds a configuration schema string for a given BLOCK and configurable\n",
    "    properties.\n",
    "\n",
    "    Parameters\n",
    "    ----------\n",
    "    block_number :\n",
    "        The BLOCK number to include in the title and description.\n",
    "    properties : dict\n",
    "        A dictionary where each key is a property name, and each value is a\n",
    "        dictionary with keys 'description', 'type', and optionally 'default'.\n",
    "\n",
    "    Returns\n",
    "    -------\n",
    "        A formatted configuration schema string.\n",
    "    \"\"\"\n",
    "\n",
    "    # Define the base schema with the BLOCK number\n",
    "    configuration_schema = (\n",
    "        \"$schema: http://json-schema.org/draft-07/schema#\\n\"\n",
    "        f\"title: BLOCK-{block_number} configuration\\n\"\n",
    "        f\"description: Configuration for BLOCK-{block_number}.\\n\"\n",
    "        \"type: object\\n\"\n",
    "        \"properties:\\n\"\n",
    "    )\n",
    "\n",
    "    # Add each property to the schema\n",
    "    for prop_name, prop_details in properties.items():\n",
    "        configuration_schema += f\"  {prop_name}:\\n\"\n",
    "        configuration_schema += f'    description: {prop_details[\"description\"]}\\n'\n",
    "        configuration_schema += f'    type: {prop_details[\"type\"]}\\n'\n",
    "        if \"default\" in prop_details:\n",
    "            # Add quotes around the default value if it's a string\n",
    "            default_value = prop_details[\"default\"]\n",
    "            if prop_details[\"type\"] == \"string\":\n",
    "                default_value = f'\"{default_value}\"'\n",
    "            configuration_schema += f\"    default: {default_value}\\n\"\n",
    "\n",
    "    return configuration_schema"
   ]
  },
  {
   "cell_type": "markdown",
   "id": "57d08735-ed64-42dd-bb82-f9cb369e032c",
   "metadata": {},
   "source": [
    "Define the configurable properties that we will use in the configuration schema"
   ]
  },
  {
   "cell_type": "code",
   "execution_count": 35,
   "id": "1d3f4ffb-d097-4b9f-945d-32390a859f12",
   "metadata": {},
   "outputs": [
    {
     "name": "stdout",
     "output_type": "stream",
     "text": [
      "$schema: http://json-schema.org/draft-07/schema#\n",
      "title: BLOCK-T227 configuration\n",
      "description: Configuration for BLOCK-T227.\n",
      "type: object\n",
      "properties:\n",
      "  ignore:\n",
      "    description: Name of the CSCs we want to ignore\n",
      "    type: array\n",
      "    default: []\n",
      "  move_timeout:\n",
      "    description: Timeout for the move_p2p.py scripts\n",
      "    type: number\n",
      "    default: 1800\n",
      "\n"
     ]
    }
   ],
   "source": [
    "properties = {\n",
    "    \"ignore\": {\n",
    "        \"description\": \"Name of the CSCs we want to ignore\",\n",
    "        \"type\": \"array\",\n",
    "        \"default\": [],\n",
    "    },\n",
    "    \"move_timeout\": {\n",
    "        \"description\": \"Timeout for the move_p2p.py scripts\",\n",
    "        \"type\": \"number\",\n",
    "        \"default\": 1800,\n",
    "    },\n",
    "    \n",
    "}\n",
    "\n",
    "block_number = name.split(\"-\")[-1]\n",
    "configuration_schema = build_configuration_schema(block_number, properties)\n",
    "print(configuration_schema)"
   ]
  },
  {
   "cell_type": "code",
   "execution_count": 36,
   "id": "6ec3ef0a-751f-4760-9c99-a675e55b5dd9",
   "metadata": {},
   "outputs": [
    {
     "data": {
      "text/plain": [
       "2.4748737341529163"
      ]
     },
     "execution_count": 36,
     "metadata": {},
     "output_type": "execute_result"
    }
   ],
   "source": [
    "3.5 / np.sqrt(2)"
   ]
  },
  {
   "cell_type": "code",
   "execution_count": 37,
   "id": "4a1924bc-7c38-43e2-891c-a207cd0057b2",
   "metadata": {},
   "outputs": [
    {
     "name": "stdout",
     "output_type": "stream",
     "text": [
      "Add move_p2p script to point at az=-75.00 deg and el = 34.00\n",
      "Add move_p2p script to point at az=-75.00 deg and el = 46.00\n",
      "Add move_p2p script to point at az=-75.00 deg and el = 34.00\n",
      "Add move_p2p script to point at az=-51.00 deg and el = 34.00\n",
      "Add move_p2p script to point at az=-75.00 deg and el = 34.00\n",
      "Add move_p2p script to point at az=-75.00 deg and el = 37.50\n",
      "Add move_p2p script to point at az=-75.00 deg and el = 34.00\n",
      "Add move_p2p script to point at az=-71.50 deg and el = 34.00\n",
      "Add move_p2p script to point at az=-75.00 deg and el = 34.00\n",
      "Add move_p2p script to point at az=-66.52 deg and el = 42.48\n",
      "Add move_p2p script to point at az=-75.00 deg and el = 50.96\n",
      "Add move_p2p script to point at az=-83.48 deg and el = 42.48\n",
      "Add move_p2p script to point at az=-75.00 deg and el = 34.00\n",
      "Add move_p2p script to point at az=-72.53 deg and el = 36.47\n",
      "Add move_p2p script to point at az=-75.00 deg and el = 38.94\n",
      "Add move_p2p script to point at az=-77.47 deg and el = 36.47\n",
      "Add move_p2p script to point at az=-75.00 deg and el = 34.00\n"
     ]
    }
   ],
   "source": [
    "azel_slew_offsets = [\n",
    "    (0, 0),\n",
    "    (0, 12),\n",
    "    (0, -12),\n",
    "    (24, 0),\n",
    "    (-24, 0),\n",
    "    (0, 3.5),\n",
    "    (0, -3.5),\n",
    "    (3.5, 0),\n",
    "    (-3.5, 0),\n",
    "    (8.48, 8.48),\n",
    "    (-8.48, 8.48),\n",
    "    (-8.48, -8.48),\n",
    "    (8.48, -8.48),\n",
    "    (2.47, 2.47),\n",
    "    (-2.47, 2.47),\n",
    "    (-2.47, -2.47),\n",
    "    (2.47, -2.47),\n",
    "]\n",
    "absolute_coordinates = []\n",
    "\n",
    "for az, el in azel_slew_offsets:\n",
    "    azimuth += az\n",
    "    elevation += el\n",
    "    print(\n",
    "        f\"Add move_p2p script to point at az={azimuth:.2f} deg and el = {elevation:.2f}\"\n",
    "    )\n",
    "    move_p2p = ObservingScript(\n",
    "        name=\"maintel/move_p2p.py\",\n",
    "        standard=True,\n",
    "        parameters=dict(az=azimuth, el=elevation, move_timeout=\"$move_timeout\", ignore=\"$ignore\"),\n",
    "    )\n",
    "    sleep = ObservingScript(\n",
    "        name=\"sleep.py\", standard=True, parameters=dict(sleep_for=30)\n",
    "    )\n",
    "\n",
    "    scripts.append(move_p2p)\n",
    "    scripts.append(sleep)\n",
    "    absolute_coordinates.append((azimuth, elevation))"
   ]
  },
  {
   "cell_type": "code",
   "execution_count": 38,
   "id": "c4d9c9cb-d1ae-4cc9-80ea-f877fd3c7c62",
   "metadata": {},
   "outputs": [],
   "source": [
    "block = ObservingBlock(\n",
    "    name=name,\n",
    "    program=program,\n",
    "    configuration_schema=configuration_schema,\n",
    "    scripts=scripts,\n",
    ")"
   ]
  },
  {
   "cell_type": "code",
   "execution_count": 39,
   "id": "40cadea1-ad66-4a95-8b75-7294dd473e19",
   "metadata": {},
   "outputs": [],
   "source": [
    "block.model_dump_json(indent=2)\n",
    "\n",
    "os.makedirs(output_folder, exist_ok=True)\n",
    "output_path = f\"{output_folder}/{name}.json\"\n",
    "\n",
    "with open(output_path, \"w\") as file:\n",
    "    file.write(block.model_dump_json(indent=2))"
   ]
  },
  {
   "cell_type": "code",
   "execution_count": 40,
   "id": "b082790d-7895-47dd-bec4-c1cca66d50d4",
   "metadata": {},
   "outputs": [
    {
     "data": {
      "image/png": "[encoded data removed]",
      "text/plain": [
       "<Figure size 640x480 with 1 Axes>"
      ]
     },
     "metadata": {},
     "output_type": "display_data"
    }
   ],
   "source": [
    "fig, ax = plt.subplots()\n",
    "\n",
    "coords = np.array(absolute_coordinates)\n",
    "\n",
    "ax.plot(coords.T[0], coords.T[1])\n",
    "ax.set_xlabel(\"Azimuth [deg]\")\n",
    "ax.set_ylabel(\"Elevation [deg]\")\n",
    "ax.grid(\":\", alpha=0.25)\n",
    "\n",
    "plt.show()"
   ]
  },
  {
   "cell_type": "code",
   "execution_count": null,
   "id": "2667364b-424b-4518-94b4-8aa0022e894d",
   "metadata": {},
   "outputs": [],
   "source": []
  },
  {
   "cell_type": "code",
   "execution_count": null,
   "id": "21719406-18df-4083-80c6-b9b64bf851d9",
   "metadata": {},
   "outputs": [],
   "source": []
  }
 ],
 "metadata": {
  "kernelspec": {
   "display_name": "base",
   "language": "python",
   "name": "python3"
  },
  "language_info": {
   "codemirror_mode": {
    "name": "ipython",
    "version": 3
   },
   "file_extension": ".py",
   "mimetype": "text/x-python",
   "name": "python",
   "nbconvert_exporter": "python",
   "pygments_lexer": "ipython3",
   "version": "3.11.9"
  }
 },
 "nbformat": 4,
 "nbformat_minor": 5
}
