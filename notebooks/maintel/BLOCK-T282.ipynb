{
 "cells": [
  {
   "cell_type": "markdown",
   "id": "0",
   "metadata": {},
   "source": [
    "# BLOCK-T282 - M2 Bump Tests"
   ]
  },
  {
   "cell_type": "code",
   "execution_count": null,
   "id": "1",
   "metadata": {},
   "outputs": [],
   "source": [
    "# %load_ext lab_black\n",
    "import numpy as np\n",
    "import os\n",
    "\n",
    "from matplotlib import pyplot as plt\n",
    "from lsst.ts.observing import ObservingBlock, ObservingScript"
   ]
  },
  {
   "cell_type": "code",
   "execution_count": null,
   "id": "2",
   "metadata": {},
   "outputs": [],
   "source": [
    "name = \"BLOCK-T282\"\n",
    "program = \"BLOCK-T282\"\n",
    "reason = \"m2_bump_tests\"\n",
    "constraints = []\n",
    "scripts = []\n",
    "\n",
    "output_folder = \"output_blocks\"\n",
    "\n",
    "# TODO: DM-41592 move constants from lsst.ts.m2com to ts-xml\n",
    "NUM_ACTUATOR = 78\n",
    "NUM_TANGENT_LINK = 6"
   ]
  },
  {
   "cell_type": "markdown",
   "id": "3",
   "metadata": {},
   "source": [
    "Define the configurable properties that we will use in the configuration schema"
   ]
  },
  {
   "cell_type": "code",
   "execution_count": null,
   "id": "4",
   "metadata": {},
   "outputs": [],
   "source": [
    "check_actuators = ObservingScript(\n",
    "    name=\"maintel/m2/check_actuators.py\",\n",
    "    standard=True,\n",
    "    parameters=dict(actuators=\"all\", period=5),\n",
    ")\n",
    "\n",
    "scripts.append(check_actuators)"
   ]
  },
  {
   "cell_type": "code",
   "execution_count": null,
   "id": "5",
   "metadata": {},
   "outputs": [],
   "source": [
    "block = ObservingBlock(\n",
    "    name=name,\n",
    "    program=program,\n",
    "    scripts=scripts,\n",
    ")"
   ]
  },
  {
   "cell_type": "code",
   "execution_count": null,
   "id": "6",
   "metadata": {},
   "outputs": [],
   "source": [
    "block.model_dump_json(indent=2)\n",
    "\n",
    "os.makedirs(output_folder, exist_ok=True)\n",
    "output_path = f\"{output_folder}/{name}.json\"\n",
    "\n",
    "with open(output_path, \"w\") as file:\n",
    "    file.write(block.model_dump_json(indent=2))"
   ]
  },
  {
   "cell_type": "code",
   "execution_count": null,
   "id": "7",
   "metadata": {},
   "outputs": [],
   "source": []
  }
 ],
 "metadata": {
  "kernelspec": {
   "display_name": "LSST",
   "language": "python",
   "name": "lsst"
  },
  "language_info": {
   "codemirror_mode": {
    "name": "ipython",
    "version": 3
   },
   "file_extension": ".py",
   "mimetype": "text/x-python",
   "name": "python",
   "nbconvert_exporter": "python",
   "pygments_lexer": "ipython3",
   "version": "3.11.9"
  }
 },
 "nbformat": 4,
 "nbformat_minor": 5
}
