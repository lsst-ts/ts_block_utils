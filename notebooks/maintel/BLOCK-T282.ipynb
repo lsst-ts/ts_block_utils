{
 "cells": [
  {
   "cell_type": "markdown",
   "id": "0d487ac6-a24d-4817-955b-db68d8711e68",
   "metadata": {},
   "source": [
    "# BLOCK-T282 - M2 Bump Tests"
   ]
  },
  {
   "cell_type": "code",
   "execution_count": null,
   "id": "c513eeff-412a-4967-a353-2a712ddce570",
   "metadata": {},
   "outputs": [],
   "source": [
    "%load_ext lab_black\n",
    "import numpy as np\n",
    "import os\n",
    "\n",
    "from matplotlib import pyplot as plt\n",
    "from lsst.ts.observing import ObservingBlock, ObservingScript"
   ]
  },
  {
   "cell_type": "code",
   "execution_count": null,
   "id": "415dc634-30e1-4989-a517-2ce01f881155",
   "metadata": {},
   "outputs": [],
   "source": [
    "name = \"BLOCK-T282\"\n",
    "program = \"BLOCK-T282\"\n",
    "reason = \"m2_bump_tests\"\n",
    "constraints = []\n",
    "scripts = []\n",
    "\n",
    "output_folder = \"output_blocks\"\n",
    "\n",
    "# TODO: DM-41592 move constants from lsst.ts.m2com to ts-xml\n",
    "NUM_ACTUATOR = 78\n",
    "NUM_TANGENT_LINK = 6"
   ]
  },
  {
   "cell_type": "markdown",
   "id": "98bb4550-0a00-4a26-8619-5028ebed3366",
   "metadata": {},
   "source": [
    "Define the configurable properties that we will use in the configuration schema"
   ]
  },
  {
   "cell_type": "code",
   "execution_count": null,
   "id": "bc597a9c-0da5-4867-926c-7ebf6b820d87",
   "metadata": {},
   "outputs": [],
   "source": [
    "check_actuators = ObservingScript(\n",
    "    name=\"maintel/m2/check_actuators.py\",\n",
    "    standard=True,\n",
    "    parameters=dict(actuators=\"all\", period=5),\n",
    ")\n",
    "\n",
    "scripts.append(check_actuators)"
   ]
  },
  {
   "cell_type": "code",
   "execution_count": null,
   "id": "c9e8b64f-8e30-4474-9729-0dc4d0c102e7",
   "metadata": {},
   "outputs": [],
   "source": [
    "block = ObservingBlock(\n",
    "    name=name,\n",
    "    program=program,\n",
    "    scripts=scripts,\n",
    ")"
   ]
  },
  {
   "cell_type": "code",
   "execution_count": null,
   "id": "7e1dc7de-6b2e-4513-8db9-61d7acae47b9",
   "metadata": {},
   "outputs": [],
   "source": [
    "block.model_dump_json(indent=2)\n",
    "\n",
    "os.makedirs(output_folder, exist_ok=True)\n",
    "output_path = f\"{output_folder}/{name}.json\"\n",
    "\n",
    "with open(output_path, \"w\") as file:\n",
    "    file.write(block.model_dump_json(indent=2))"
   ]
  },
  {
   "cell_type": "code",
   "execution_count": null,
   "id": "6c703dce-f3a3-4d61-8f9b-357aa7aae2de",
   "metadata": {},
   "outputs": [],
   "source": []
  }
 ],
 "metadata": {
  "kernelspec": {
   "display_name": "LSST",
   "language": "python",
   "name": "lsst"
  },
  "language_info": {
   "codemirror_mode": {
    "name": "ipython",
    "version": 3
   },
   "file_extension": ".py",
   "mimetype": "text/x-python",
   "name": "python",
   "nbconvert_exporter": "python",
   "pygments_lexer": "ipython3",
   "version": "3.11.9"
  }
 },
 "nbformat": 4,
 "nbformat_minor": 5
}
