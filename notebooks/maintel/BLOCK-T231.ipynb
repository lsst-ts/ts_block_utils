{
 "cells": [
  {
   "cell_type": "markdown",
   "id": "0aab1d1d-69f1-4748-97ec-6614df9f7a18",
   "metadata": {
    "execution": {
     "iopub.execute_input": "2024-10-23T18:53:45.253189Z",
     "iopub.status.busy": "2024-10-23T18:53:45.252897Z",
     "iopub.status.idle": "2024-10-23T18:53:45.342351Z",
     "shell.execute_reply": "2024-10-23T18:53:45.341784Z",
     "shell.execute_reply.started": "2024-10-23T18:53:45.253174Z"
    }
   },
   "source": [
    "# BLOCK-T231 - TMA Azimuth Brake Distance"
   ]
  },
  {
   "cell_type": "code",
   "execution_count": null,
   "id": "2bd99a4a-27a7-4301-b0d1-3f071651f386",
   "metadata": {},
   "outputs": [],
   "source": [
    "%load_ext lab_black\n",
    "import numpy as np\n",
    "import os\n",
    "\n",
    "from lsst.ts.observing import ObservingBlock, ObservingScript"
   ]
  },
  {
   "cell_type": "code",
   "execution_count": null,
   "id": "62127b26-6f4c-4689-a332-2a0a899ef2bf",
   "metadata": {},
   "outputs": [],
   "source": [
    "name = \"BLOCK-T231\"\n",
    "program = \"BLOCK-T231\"\n",
    "reason = \"SITCOM-1536\"\n",
    "constraints = []\n",
    "scripts = []\n",
    "\n",
    "output_folder = \"output_blocks\""
   ]
  },
  {
   "cell_type": "code",
   "execution_count": null,
   "id": "021b6438-bd05-46ce-bac1-4986a976b08c",
   "metadata": {},
   "outputs": [],
   "source": [
    "def build_configuration_schema(block_number, properties):\n",
    "    \"\"\"\n",
    "    Builds a configuration schema string for a given BLOCK and configurable\n",
    "    properties.\n",
    "\n",
    "    Parameters\n",
    "    ----------\n",
    "    block_number :\n",
    "        The BLOCK number to include in the title and description.\n",
    "    properties : dict\n",
    "        A dictionary where each key is a property name, and each value is a\n",
    "        dictionary with keys 'description', 'type', and optionally 'default'.\n",
    "\n",
    "    Returns\n",
    "    -------\n",
    "        A formatted configuration schema string.\n",
    "    \"\"\"\n",
    "\n",
    "    # Define the base schema with the BLOCK number\n",
    "    configuration_schema = (\n",
    "        \"$schema: http://json-schema.org/draft-07/schema#\\n\"\n",
    "        f\"title: BLOCK-{block_number} configuration\\n\"\n",
    "        f\"description: Configuration for BLOCK-{block_number}.\\n\"\n",
    "        \"type: object\\n\"\n",
    "        \"properties:\\n\"\n",
    "    )\n",
    "\n",
    "    # Add each property to the schema\n",
    "    for prop_name, prop_details in properties.items():\n",
    "        configuration_schema += f\"  {prop_name}:\\n\"\n",
    "        configuration_schema += f'    description: {prop_details[\"description\"]}\\n'\n",
    "        configuration_schema += f'    type: {prop_details[\"type\"]}\\n'\n",
    "        if \"default\" in prop_details:\n",
    "            # Add quotes around the default value if it's a string\n",
    "            default_value = prop_details[\"default\"]\n",
    "            if prop_details[\"type\"] == \"string\":\n",
    "                default_value = f'\"{default_value}\"'\n",
    "            configuration_schema += f\"    default: {default_value}\\n\"\n",
    "\n",
    "    return configuration_schema"
   ]
  },
  {
   "cell_type": "markdown",
   "id": "57d08735-ed64-42dd-bb82-f9cb369e032c",
   "metadata": {},
   "source": [
    "Define the configurable properties that we will use in the configuration schema"
   ]
  },
  {
   "cell_type": "code",
   "execution_count": null,
   "id": "1d3f4ffb-d097-4b9f-945d-32390a859f12",
   "metadata": {},
   "outputs": [],
   "source": [
    "properties = {\n",
    "    \"azimuth\": {\n",
    "        \"description\": \"Target Azimuth position\",\n",
    "        \"type\": \"number\",\n",
    "        \"default\": \"0\",\n",
    "    },\n",
    "    \"elevation\": {\n",
    "        \"description\": \"Target Elevation position\",\n",
    "        \"type\": \"number\",\n",
    "        \"default\": \"80\",\n",
    "    },\n",
    "    \"ignore\": {\n",
    "        \"description\": \"Name of the CSCs we want to ignore\",\n",
    "        \"type\": \"array\",\n",
    "        \"default\": [],\n",
    "    },\n",
    "    \"move_timeout\": {\n",
    "        \"description\": \"Timeout associated with the move_p2p scripts\",\n",
    "        \"type\": \"number\",\n",
    "        \"default\": 1800,\n",
    "    },\n",
    "}\n",
    "\n",
    "block_number = name.split(\"-\")[-1]\n",
    "configuration_schema = build_configuration_schema(block_number, properties)\n",
    "print(configuration_schema)"
   ]
  },
  {
   "cell_type": "code",
   "execution_count": null,
   "id": "a362ab42-97d4-44a6-84fd-de26666efd92",
   "metadata": {},
   "outputs": [],
   "source": [
    "move_p2p = ObservingScript(\n",
    "    name=\"maintel/move_p2p.py\",\n",
    "    standard=True,\n",
    "    parameters=dict(\n",
    "        az=\"$azimuth\", el=\"$elevation\", ignore=\"$ignore\", move_timeout=\"$move_timeout\"\n",
    "    ),\n",
    ")\n",
    "\n",
    "scripts.append(move_p2p)"
   ]
  },
  {
   "cell_type": "code",
   "execution_count": null,
   "id": "c4d9c9cb-d1ae-4cc9-80ea-f877fd3c7c62",
   "metadata": {},
   "outputs": [],
   "source": [
    "block = ObservingBlock(\n",
    "    name=name,\n",
    "    program=program,\n",
    "    configuration_schema=configuration_schema,\n",
    "    scripts=scripts,\n",
    ")"
   ]
  },
  {
   "cell_type": "code",
   "execution_count": null,
   "id": "40cadea1-ad66-4a95-8b75-7294dd473e19",
   "metadata": {},
   "outputs": [],
   "source": [
    "block.model_dump_json(indent=2)\n",
    "\n",
    "os.makedirs(output_folder, exist_ok=True)\n",
    "output_path = f\"{output_folder}/{name}.json\"\n",
    "\n",
    "with open(output_path, \"w\") as file:\n",
    "    file.write(block.model_dump_json(indent=2))"
   ]
  },
  {
   "cell_type": "code",
   "execution_count": null,
   "id": "b082790d-7895-47dd-bec4-c1cca66d50d4",
   "metadata": {},
   "outputs": [],
   "source": []
  },
  {
   "cell_type": "code",
   "execution_count": null,
   "id": "2667364b-424b-4518-94b4-8aa0022e894d",
   "metadata": {},
   "outputs": [],
   "source": []
  },
  {
   "cell_type": "code",
   "execution_count": null,
   "id": "21719406-18df-4083-80c6-b9b64bf851d9",
   "metadata": {},
   "outputs": [],
   "source": []
  }
 ],
 "metadata": {
  "kernelspec": {
   "display_name": "LSST",
   "language": "python",
   "name": "lsst"
  },
  "language_info": {
   "codemirror_mode": {
    "name": "ipython",
    "version": 3
   },
   "file_extension": ".py",
   "mimetype": "text/x-python",
   "name": "python",
   "nbconvert_exporter": "python",
   "pygments_lexer": "ipython3",
   "version": "3.11.9"
  }
 },
 "nbformat": 4,
 "nbformat_minor": 5
}
