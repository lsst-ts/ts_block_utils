{
 "cells": [
  {
   "cell_type": "code",
   "execution_count": 1,
   "id": "ec75c9fe-a44e-4d4f-8a8f-bb2596c3d4ab",
   "metadata": {},
   "outputs": [],
   "source": [
    "from rubin_scheduler.scheduler import detailers\n",
    "from lsst.ts.observing import ObservingBlock, ObservingScript\n",
    "import numpy as np"
   ]
  },
  {
   "cell_type": "code",
   "execution_count": 2,
   "id": "8e313408-c4c4-46cb-9d1c-58ef7ee7118b",
   "metadata": {},
   "outputs": [],
   "source": [
    "name = \"BLOCK-T248\"\n",
    "program = \"BLOCK-T248\"\n",
    "reason = \"comcam_science_imaging\"\n",
    "constraints = []\n",
    "scripts = []"
   ]
  },
  {
   "cell_type": "code",
   "execution_count": 3,
   "id": "6f25dce4-ba85-4e5a-9b05-26ca76d86226",
   "metadata": {},
   "outputs": [],
   "source": [
    "detailer = detailers.DitherDetailer(max_dither=0.2, per_night=False)\n",
    "\n",
    "n_offsets = 30\n",
    "night = 42\n",
    "offsets = np.degrees(detailer._generate_offsets(n_offsets, night))"
   ]
  },
  {
   "cell_type": "code",
   "execution_count": 4,
   "id": "0f94596d-fb8e-4166-bc09-f971e6e8278d",
   "metadata": {},
   "outputs": [],
   "source": [
    "comcam_take_images_r_script = ObservingScript(\n",
    "    name=\"maintel/take_image_comcam.py\",\n",
    "    standard=True,\n",
    "    parameters= dict(\n",
    "        filter=\"r_03\",\n",
    "        image_type=\"OBJECT\",\n",
    "        program=program,\n",
    "        reason=reason,\n",
    "        exp_times = 30.0,\n",
    "        nimages = 1\n",
    "    )\n",
    ")"
   ]
  },
  {
   "cell_type": "code",
   "execution_count": 5,
   "id": "92100e5a-515a-425d-8d50-e5d70577d9e8",
   "metadata": {},
   "outputs": [],
   "source": [
    "comcam_take_images_i_script = ObservingScript(\n",
    "    name=\"maintel/take_image_comcam.py\",\n",
    "    standard=True,\n",
    "    parameters= dict(\n",
    "        filter=\"i_06\",\n",
    "        image_type=\"OBJECT\",\n",
    "        program=program,\n",
    "        reason=reason,\n",
    "        exp_times = 30.0,\n",
    "        nimages = 1\n",
    "    )\n",
    ")"
   ]
  },
  {
   "cell_type": "code",
   "execution_count": 6,
   "id": "d62681e3-0898-4614-b10b-8cd95cfac9ef",
   "metadata": {},
   "outputs": [],
   "source": [
    "for offset in offsets:\n",
    "    offset_script = ObservingScript(\n",
    "        name=\"maintel/offset_mtcs.py\",\n",
    "        standard=True,\n",
    "        parameters = dict(\n",
    "            offset_xy = dict(\n",
    "                x = offset[0]*3600.0,\n",
    "                y = offset[1]*3600.0\n",
    "            ),\n",
    "            relative = False\n",
    "        )\n",
    "    )\n",
    "    scripts.append(offset_script)\n",
    "    scripts.append(comcam_take_images_r_script)\n",
    "    scripts.append(comcam_take_images_i_script)"
   ]
  },
  {
   "cell_type": "code",
   "execution_count": 7,
   "id": "a9a238fb-6f2d-486f-bae0-b08106e3f209",
   "metadata": {},
   "outputs": [],
   "source": [
    "stop_tracking_script = ObservingScript(\n",
    "    name=\"maintel/stop_tracking.py\",\n",
    "    standard=True,\n",
    "    parameters = dict()\n",
    ")\n",
    "scripts.append(stop_tracking_script)"
   ]
  },
  {
   "cell_type": "code",
   "execution_count": 8,
   "id": "7ca9dfb7-24d1-4cde-a206-4f574b1e893c",
   "metadata": {},
   "outputs": [
    {
     "data": {
      "text/plain": [
       "91"
      ]
     },
     "execution_count": 8,
     "metadata": {},
     "output_type": "execute_result"
    }
   ],
   "source": [
    "len(scripts)"
   ]
  },
  {
   "cell_type": "code",
   "execution_count": 9,
   "id": "97b0c179-de00-4d7c-898f-1c2a2ac5ab42",
   "metadata": {},
   "outputs": [],
   "source": [
    "block = ObservingBlock(\n",
    "    name = name,\n",
    "    program = program,\n",
    "    scripts = scripts,\n",
    ")"
   ]
  },
  {
   "cell_type": "code",
   "execution_count": null,
   "id": "66bb3185-920a-4274-8561-2abe03324c56",
   "metadata": {},
   "outputs": [],
   "source": []
  }
 ],
 "metadata": {
  "kernelspec": {
   "display_name": "Python 3 (ipykernel)",
   "language": "python",
   "name": "python3"
  },
  "language_info": {
   "codemirror_mode": {
    "name": "ipython",
    "version": 3
   },
   "file_extension": ".py",
   "mimetype": "text/x-python",
   "name": "python",
   "nbconvert_exporter": "python",
   "pygments_lexer": "ipython3",
   "version": "3.11.9"
  }
 },
 "nbformat": 4,
 "nbformat_minor": 5
}
